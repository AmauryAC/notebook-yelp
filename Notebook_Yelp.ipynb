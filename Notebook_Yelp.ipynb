{
 "cells": [
  {
   "cell_type": "code",
   "execution_count": 1,
   "metadata": {},
   "outputs": [],
   "source": [
    "# Desativando os avisos sobre as bibliotecas depreciadas:\n",
    "import warnings\n",
    "warnings.filterwarnings(\"ignore\", category=DeprecationWarning)"
   ]
  },
  {
   "cell_type": "code",
   "execution_count": 2,
   "metadata": {},
   "outputs": [],
   "source": [
    "# Importando os módulos:\n",
    "import pandas as pd\n",
    "import matplotlib.pyplot as plt\n",
    "import seaborn as sns"
   ]
  },
  {
   "cell_type": "code",
   "execution_count": 3,
   "metadata": {},
   "outputs": [],
   "source": [
    "from sklearn.model_selection import train_test_split\n",
    "from sklearn.metrics import accuracy_score, confusion_matrix, classification_report\n",
    "from imblearn.over_sampling import SMOTE\n",
    "from imblearn.under_sampling import NearMiss"
   ]
  },
  {
   "cell_type": "code",
   "execution_count": 4,
   "metadata": {},
   "outputs": [],
   "source": [
    "from sklearn.model_selection import train_test_split\n",
    "from sklearn.preprocessing import StandardScaler\n",
    "from sklearn.metrics import confusion_matrix, classification_report, accuracy_score, roc_auc_score"
   ]
  },
  {
   "cell_type": "code",
   "execution_count": 5,
   "metadata": {},
   "outputs": [
    {
     "name": "stderr",
     "output_type": "stream",
     "text": [
      "C:\\Users\\amaur\\Anaconda3\\lib\\site-packages\\dask\\dataframe\\utils.py:14: FutureWarning: pandas.util.testing is deprecated. Use the functions in the public API at pandas.testing instead.\n",
      "  import pandas.util.testing as tm\n"
     ]
    }
   ],
   "source": [
    "# Importando os modelos:\n",
    "from sklearn import model_selection\n",
    "from sklearn.linear_model import LogisticRegression\n",
    "from sklearn.tree import DecisionTreeClassifier\n",
    "from sklearn.neighbors import KNeighborsClassifier\n",
    "from sklearn.discriminant_analysis import LinearDiscriminantAnalysis\n",
    "from sklearn.naive_bayes import GaussianNB\n",
    "from sklearn.svm import SVC\n",
    "from sklearn.ensemble import AdaBoostClassifier\n",
    "from sklearn.ensemble import GradientBoostingClassifier\n",
    "from sklearn.ensemble import RandomForestClassifier\n",
    "from sklearn.ensemble import ExtraTreesClassifier\n",
    "import xgboost as xgb"
   ]
  },
  {
   "cell_type": "code",
   "execution_count": 6,
   "metadata": {},
   "outputs": [],
   "source": [
    "import statsmodels.api as sm\n",
    "import statsmodels.formula.api as smf\n",
    "\n",
    "from sklearn.feature_selection import mutual_info_classif, mutual_info_regression, SelectKBest, SelectPercentile, chi2"
   ]
  },
  {
   "cell_type": "code",
   "execution_count": 7,
   "metadata": {},
   "outputs": [],
   "source": [
    "def loadData(filepath):\n",
    "    chunks = []\n",
    "    for chunk in pd.read_csv(filepath, low_memory=False, chunksize=1000):\n",
    "        chunks.append(chunk)\n",
    "    return chunks"
   ]
  },
  {
   "cell_type": "code",
   "execution_count": 8,
   "metadata": {},
   "outputs": [],
   "source": [
    "df_business = pd.concat(loadData('C:/Users/amaur/Documents/yelp_business.csv'))"
   ]
  },
  {
   "cell_type": "code",
   "execution_count": 9,
   "metadata": {},
   "outputs": [],
   "source": [
    "#df_business_att = pd.concat(loadData('C:/Users/amaur_5j86jzh/Desktop/TCC - Yelp/Datasets/yelp_business_attributes.csv'))"
   ]
  },
  {
   "cell_type": "code",
   "execution_count": 10,
   "metadata": {},
   "outputs": [],
   "source": [
    "df_checkin = pd.concat(loadData('C:/Users/amaur/Documents/yelp_checkin.csv'))"
   ]
  },
  {
   "cell_type": "code",
   "execution_count": 11,
   "metadata": {},
   "outputs": [],
   "source": [
    "df_review = pd.concat(loadData('C:/Users/amaur/Documents/yelp_review.csv'))"
   ]
  },
  {
   "cell_type": "code",
   "execution_count": 12,
   "metadata": {},
   "outputs": [],
   "source": [
    "df_business_cols = ['business_id', 'name', 'latitude', 'longitude', 'city', 'state', 'stars', 'review_count', 'is_open']\n",
    "df_checkin_cols = ['business_id', 'checkins']\n",
    "df_review_cols = ['business_id', 'stars']"
   ]
  },
  {
   "cell_type": "code",
   "execution_count": 13,
   "metadata": {},
   "outputs": [],
   "source": [
    "new_df_business = df_business.loc[:, df_business_cols]\n",
    "new_df_checkin = df_checkin.loc[:, df_checkin_cols]\n",
    "new_df_review = df_review.loc[:, df_review_cols]"
   ]
  },
  {
   "cell_type": "code",
   "execution_count": 14,
   "metadata": {},
   "outputs": [],
   "source": [
    "new_df_review.loc[new_df_review[\"stars\"] > 3.5, 'positive_reviews'] = 1\n",
    "new_df_review.loc[new_df_review[\"stars\"] < 2.5, 'negative_reviews'] = 1\n",
    "new_df_review.loc[(new_df_review['stars'] >= 2.5) & (new_df_review['stars'] <= 3.5), 'neutral_reviews'] = 1"
   ]
  },
  {
   "cell_type": "code",
   "execution_count": 15,
   "metadata": {},
   "outputs": [],
   "source": [
    "df_review_group = new_df_review.groupby(by='business_id')\n",
    "\n",
    "grouped_df_review = pd.DataFrame()\n",
    "grouped_df_review['positive_reviews'] = df_review_group['positive_reviews'].count()\n",
    "grouped_df_review['negative_reviews'] = df_review_group['negative_reviews'].count()\n",
    "grouped_df_review['neutral_reviews'] = df_review_group['neutral_reviews'].count()\n",
    "grouped_df_review['total_reviews'] = df_review_group['positive_reviews'].count() + df_review_group['negative_reviews'].count() + df_review_group['neutral_reviews'].count()"
   ]
  },
  {
   "cell_type": "code",
   "execution_count": 16,
   "metadata": {},
   "outputs": [],
   "source": [
    "df_checkin_group = new_df_checkin.groupby(by='business_id')\n",
    "\n",
    "grouped_df_checkin = pd.DataFrame()\n",
    "grouped_df_checkin['total_checkins'] = df_checkin_group['checkins'].sum()"
   ]
  },
  {
   "cell_type": "code",
   "execution_count": 17,
   "metadata": {
    "scrolled": true
   },
   "outputs": [
    {
     "data": {
      "text/html": [
       "<div>\n",
       "<style scoped>\n",
       "    .dataframe tbody tr th:only-of-type {\n",
       "        vertical-align: middle;\n",
       "    }\n",
       "\n",
       "    .dataframe tbody tr th {\n",
       "        vertical-align: top;\n",
       "    }\n",
       "\n",
       "    .dataframe thead th {\n",
       "        text-align: right;\n",
       "    }\n",
       "</style>\n",
       "<table border=\"1\" class=\"dataframe\">\n",
       "  <thead>\n",
       "    <tr style=\"text-align: right;\">\n",
       "      <th></th>\n",
       "      <th>business_id</th>\n",
       "      <th>name</th>\n",
       "      <th>latitude</th>\n",
       "      <th>longitude</th>\n",
       "      <th>city</th>\n",
       "      <th>state</th>\n",
       "      <th>stars</th>\n",
       "      <th>review_count</th>\n",
       "      <th>is_open</th>\n",
       "      <th>positive_reviews</th>\n",
       "      <th>negative_reviews</th>\n",
       "      <th>neutral_reviews</th>\n",
       "      <th>total_reviews</th>\n",
       "      <th>total_checkins</th>\n",
       "    </tr>\n",
       "  </thead>\n",
       "  <tbody>\n",
       "    <tr>\n",
       "      <th>0</th>\n",
       "      <td>FYWN1wneV18bWNgQjJ2GNg</td>\n",
       "      <td>\"Dental by Design\"</td>\n",
       "      <td>33.330690</td>\n",
       "      <td>-111.978599</td>\n",
       "      <td>Ahwatukee</td>\n",
       "      <td>AZ</td>\n",
       "      <td>4.0</td>\n",
       "      <td>22</td>\n",
       "      <td>1</td>\n",
       "      <td>17</td>\n",
       "      <td>5</td>\n",
       "      <td>1</td>\n",
       "      <td>23</td>\n",
       "      <td>1.0</td>\n",
       "    </tr>\n",
       "    <tr>\n",
       "      <th>1</th>\n",
       "      <td>He-G7vWjzVUysIKrfNbPUQ</td>\n",
       "      <td>\"Stephen Szabo Salon\"</td>\n",
       "      <td>40.291685</td>\n",
       "      <td>-80.104900</td>\n",
       "      <td>McMurray</td>\n",
       "      <td>PA</td>\n",
       "      <td>3.0</td>\n",
       "      <td>11</td>\n",
       "      <td>1</td>\n",
       "      <td>5</td>\n",
       "      <td>6</td>\n",
       "      <td>0</td>\n",
       "      <td>11</td>\n",
       "      <td>1.0</td>\n",
       "    </tr>\n",
       "    <tr>\n",
       "      <th>2</th>\n",
       "      <td>KQPW8lFf1y5BT2MxiSZ3QA</td>\n",
       "      <td>\"Western Motor Vehicle\"</td>\n",
       "      <td>33.524903</td>\n",
       "      <td>-112.115310</td>\n",
       "      <td>Phoenix</td>\n",
       "      <td>AZ</td>\n",
       "      <td>1.5</td>\n",
       "      <td>18</td>\n",
       "      <td>1</td>\n",
       "      <td>2</td>\n",
       "      <td>14</td>\n",
       "      <td>2</td>\n",
       "      <td>18</td>\n",
       "      <td>1.0</td>\n",
       "    </tr>\n",
       "    <tr>\n",
       "      <th>3</th>\n",
       "      <td>8DShNS-LuFqpEWIp0HxijA</td>\n",
       "      <td>\"Sports Authority\"</td>\n",
       "      <td>33.383147</td>\n",
       "      <td>-111.964725</td>\n",
       "      <td>Tempe</td>\n",
       "      <td>AZ</td>\n",
       "      <td>3.0</td>\n",
       "      <td>9</td>\n",
       "      <td>0</td>\n",
       "      <td>4</td>\n",
       "      <td>5</td>\n",
       "      <td>0</td>\n",
       "      <td>9</td>\n",
       "      <td>1.0</td>\n",
       "    </tr>\n",
       "    <tr>\n",
       "      <th>4</th>\n",
       "      <td>PfOCPjBrlQAnz__NXj9h_w</td>\n",
       "      <td>\"Brick House Tavern + Tap\"</td>\n",
       "      <td>41.119535</td>\n",
       "      <td>-81.475690</td>\n",
       "      <td>Cuyahoga Falls</td>\n",
       "      <td>OH</td>\n",
       "      <td>3.5</td>\n",
       "      <td>116</td>\n",
       "      <td>1</td>\n",
       "      <td>64</td>\n",
       "      <td>29</td>\n",
       "      <td>23</td>\n",
       "      <td>116</td>\n",
       "      <td>1.0</td>\n",
       "    </tr>\n",
       "    <tr>\n",
       "      <th>...</th>\n",
       "      <td>...</td>\n",
       "      <td>...</td>\n",
       "      <td>...</td>\n",
       "      <td>...</td>\n",
       "      <td>...</td>\n",
       "      <td>...</td>\n",
       "      <td>...</td>\n",
       "      <td>...</td>\n",
       "      <td>...</td>\n",
       "      <td>...</td>\n",
       "      <td>...</td>\n",
       "      <td>...</td>\n",
       "      <td>...</td>\n",
       "      <td>...</td>\n",
       "    </tr>\n",
       "    <tr>\n",
       "      <th>174562</th>\n",
       "      <td>ALV5R8NkZ1KGOZeuZl3u0A</td>\n",
       "      <td>\"Whitby Toyota\"</td>\n",
       "      <td>43.873460</td>\n",
       "      <td>-78.968033</td>\n",
       "      <td>Whitby</td>\n",
       "      <td>ON</td>\n",
       "      <td>4.0</td>\n",
       "      <td>4</td>\n",
       "      <td>1</td>\n",
       "      <td>3</td>\n",
       "      <td>1</td>\n",
       "      <td>0</td>\n",
       "      <td>4</td>\n",
       "      <td>1.0</td>\n",
       "    </tr>\n",
       "    <tr>\n",
       "      <th>174563</th>\n",
       "      <td>gRGalHVu6BcaUDIAGVW_xQ</td>\n",
       "      <td>\"Village Auto Body\"</td>\n",
       "      <td>41.243385</td>\n",
       "      <td>-81.636212</td>\n",
       "      <td>Richfield</td>\n",
       "      <td>OH</td>\n",
       "      <td>5.0</td>\n",
       "      <td>3</td>\n",
       "      <td>1</td>\n",
       "      <td>3</td>\n",
       "      <td>0</td>\n",
       "      <td>0</td>\n",
       "      <td>3</td>\n",
       "      <td>NaN</td>\n",
       "    </tr>\n",
       "    <tr>\n",
       "      <th>174564</th>\n",
       "      <td>XXvZBIHoJBU5d6-a-oyMWQ</td>\n",
       "      <td>\"AAM\"</td>\n",
       "      <td>33.407914</td>\n",
       "      <td>-111.965098</td>\n",
       "      <td>Tempe</td>\n",
       "      <td>AZ</td>\n",
       "      <td>1.5</td>\n",
       "      <td>19</td>\n",
       "      <td>1</td>\n",
       "      <td>3</td>\n",
       "      <td>16</td>\n",
       "      <td>0</td>\n",
       "      <td>19</td>\n",
       "      <td>1.0</td>\n",
       "    </tr>\n",
       "    <tr>\n",
       "      <th>174565</th>\n",
       "      <td>lNpPGgM96nPIYM1shxciHg</td>\n",
       "      <td>\"Bronze Beauty Spray Tanning\"</td>\n",
       "      <td>40.517724</td>\n",
       "      <td>-80.091466</td>\n",
       "      <td>Pittsburgh</td>\n",
       "      <td>PA</td>\n",
       "      <td>5.0</td>\n",
       "      <td>14</td>\n",
       "      <td>1</td>\n",
       "      <td>14</td>\n",
       "      <td>0</td>\n",
       "      <td>0</td>\n",
       "      <td>14</td>\n",
       "      <td>1.0</td>\n",
       "    </tr>\n",
       "    <tr>\n",
       "      <th>174566</th>\n",
       "      <td>viKaP26BcHU6cLx8sf4gKg</td>\n",
       "      <td>\"Phoenix Pharmacy\"</td>\n",
       "      <td>33.479861</td>\n",
       "      <td>-112.044689</td>\n",
       "      <td>Phoenix</td>\n",
       "      <td>AZ</td>\n",
       "      <td>5.0</td>\n",
       "      <td>4</td>\n",
       "      <td>1</td>\n",
       "      <td>4</td>\n",
       "      <td>0</td>\n",
       "      <td>0</td>\n",
       "      <td>4</td>\n",
       "      <td>1.0</td>\n",
       "    </tr>\n",
       "  </tbody>\n",
       "</table>\n",
       "<p>174567 rows × 14 columns</p>\n",
       "</div>"
      ],
      "text/plain": [
       "                   business_id                           name   latitude  \\\n",
       "0       FYWN1wneV18bWNgQjJ2GNg             \"Dental by Design\"  33.330690   \n",
       "1       He-G7vWjzVUysIKrfNbPUQ          \"Stephen Szabo Salon\"  40.291685   \n",
       "2       KQPW8lFf1y5BT2MxiSZ3QA        \"Western Motor Vehicle\"  33.524903   \n",
       "3       8DShNS-LuFqpEWIp0HxijA             \"Sports Authority\"  33.383147   \n",
       "4       PfOCPjBrlQAnz__NXj9h_w     \"Brick House Tavern + Tap\"  41.119535   \n",
       "...                        ...                            ...        ...   \n",
       "174562  ALV5R8NkZ1KGOZeuZl3u0A                \"Whitby Toyota\"  43.873460   \n",
       "174563  gRGalHVu6BcaUDIAGVW_xQ            \"Village Auto Body\"  41.243385   \n",
       "174564  XXvZBIHoJBU5d6-a-oyMWQ                          \"AAM\"  33.407914   \n",
       "174565  lNpPGgM96nPIYM1shxciHg  \"Bronze Beauty Spray Tanning\"  40.517724   \n",
       "174566  viKaP26BcHU6cLx8sf4gKg             \"Phoenix Pharmacy\"  33.479861   \n",
       "\n",
       "         longitude            city state  stars  review_count  is_open  \\\n",
       "0      -111.978599       Ahwatukee    AZ    4.0            22        1   \n",
       "1       -80.104900        McMurray    PA    3.0            11        1   \n",
       "2      -112.115310         Phoenix    AZ    1.5            18        1   \n",
       "3      -111.964725           Tempe    AZ    3.0             9        0   \n",
       "4       -81.475690  Cuyahoga Falls    OH    3.5           116        1   \n",
       "...            ...             ...   ...    ...           ...      ...   \n",
       "174562  -78.968033          Whitby    ON    4.0             4        1   \n",
       "174563  -81.636212       Richfield    OH    5.0             3        1   \n",
       "174564 -111.965098           Tempe    AZ    1.5            19        1   \n",
       "174565  -80.091466      Pittsburgh    PA    5.0            14        1   \n",
       "174566 -112.044689         Phoenix    AZ    5.0             4        1   \n",
       "\n",
       "        positive_reviews  negative_reviews  neutral_reviews  total_reviews  \\\n",
       "0                     17                 5                1             23   \n",
       "1                      5                 6                0             11   \n",
       "2                      2                14                2             18   \n",
       "3                      4                 5                0              9   \n",
       "4                     64                29               23            116   \n",
       "...                  ...               ...              ...            ...   \n",
       "174562                 3                 1                0              4   \n",
       "174563                 3                 0                0              3   \n",
       "174564                 3                16                0             19   \n",
       "174565                14                 0                0             14   \n",
       "174566                 4                 0                0              4   \n",
       "\n",
       "        total_checkins  \n",
       "0                  1.0  \n",
       "1                  1.0  \n",
       "2                  1.0  \n",
       "3                  1.0  \n",
       "4                  1.0  \n",
       "...                ...  \n",
       "174562             1.0  \n",
       "174563             NaN  \n",
       "174564             1.0  \n",
       "174565             1.0  \n",
       "174566             1.0  \n",
       "\n",
       "[174567 rows x 14 columns]"
      ]
     },
     "execution_count": 17,
     "metadata": {},
     "output_type": "execute_result"
    }
   ],
   "source": [
    "grouped_df_review.reset_index(inplace=True)\n",
    "grouped_df_checkin.reset_index(inplace=True)\n",
    "\n",
    "df = pd.merge(left=grouped_df_review, right=grouped_df_checkin, on='business_id', how='left')\n",
    "df = pd.merge(left=new_df_business, right=df, on='business_id', how='left')\n",
    "#df = pd.merge(left=df, right=df_business_att,on='business_id',how='left')\n",
    "df"
   ]
  },
  {
   "cell_type": "code",
   "execution_count": 18,
   "metadata": {},
   "outputs": [
    {
     "name": "stdout",
     "output_type": "stream",
     "text": [
      "<class 'pandas.core.frame.DataFrame'>\n",
      "Int64Index: 174567 entries, 0 to 174566\n",
      "Data columns (total 14 columns):\n",
      " #   Column            Non-Null Count   Dtype  \n",
      "---  ------            --------------   -----  \n",
      " 0   business_id       174567 non-null  object \n",
      " 1   name              174567 non-null  object \n",
      " 2   latitude          174566 non-null  float64\n",
      " 3   longitude         174566 non-null  float64\n",
      " 4   city              174566 non-null  object \n",
      " 5   state             174566 non-null  object \n",
      " 6   stars             174567 non-null  float64\n",
      " 7   review_count      174567 non-null  int64  \n",
      " 8   is_open           174567 non-null  int64  \n",
      " 9   positive_reviews  174567 non-null  int64  \n",
      " 10  negative_reviews  174567 non-null  int64  \n",
      " 11  neutral_reviews   174567 non-null  int64  \n",
      " 12  total_reviews     174567 non-null  int64  \n",
      " 13  total_checkins    146350 non-null  float64\n",
      "dtypes: float64(4), int64(6), object(4)\n",
      "memory usage: 20.0+ MB\n"
     ]
    }
   ],
   "source": [
    "df.info()"
   ]
  },
  {
   "cell_type": "code",
   "execution_count": 19,
   "metadata": {},
   "outputs": [],
   "source": [
    "#business_cats=';'.join(df['categories'])\n",
    "#cats=pd.DataFrame(business_cats.split(';'),columns=['category'])\n",
    "#cats_ser = cats.category.value_counts()\n",
    "\n",
    "#cats_df = pd.DataFrame(cats_ser)\n",
    "#cats_df.reset_index(inplace=True)\n",
    "\n",
    "#cats_df"
   ]
  },
  {
   "cell_type": "code",
   "execution_count": 20,
   "metadata": {},
   "outputs": [
    {
     "data": {
      "text/html": [
       "<div>\n",
       "<style scoped>\n",
       "    .dataframe tbody tr th:only-of-type {\n",
       "        vertical-align: middle;\n",
       "    }\n",
       "\n",
       "    .dataframe tbody tr th {\n",
       "        vertical-align: top;\n",
       "    }\n",
       "\n",
       "    .dataframe thead th {\n",
       "        text-align: right;\n",
       "    }\n",
       "</style>\n",
       "<table border=\"1\" class=\"dataframe\">\n",
       "  <thead>\n",
       "    <tr style=\"text-align: right;\">\n",
       "      <th></th>\n",
       "      <th>latitude</th>\n",
       "      <th>longitude</th>\n",
       "      <th>stars</th>\n",
       "      <th>review_count</th>\n",
       "      <th>is_open</th>\n",
       "      <th>positive_reviews</th>\n",
       "      <th>negative_reviews</th>\n",
       "      <th>neutral_reviews</th>\n",
       "      <th>total_reviews</th>\n",
       "      <th>total_checkins</th>\n",
       "    </tr>\n",
       "  </thead>\n",
       "  <tbody>\n",
       "    <tr>\n",
       "      <th>count</th>\n",
       "      <td>174566.000000</td>\n",
       "      <td>174566.000000</td>\n",
       "      <td>174567.000000</td>\n",
       "      <td>174567.000000</td>\n",
       "      <td>174567.000000</td>\n",
       "      <td>174567.000000</td>\n",
       "      <td>174567.000000</td>\n",
       "      <td>174567.000000</td>\n",
       "      <td>174567.000000</td>\n",
       "      <td>146350.000000</td>\n",
       "    </tr>\n",
       "    <tr>\n",
       "      <th>mean</th>\n",
       "      <td>38.627312</td>\n",
       "      <td>-92.679009</td>\n",
       "      <td>3.632196</td>\n",
       "      <td>30.137059</td>\n",
       "      <td>0.840376</td>\n",
       "      <td>19.915923</td>\n",
       "      <td>6.699571</td>\n",
       "      <td>3.525758</td>\n",
       "      <td>30.141252</td>\n",
       "      <td>1.754554</td>\n",
       "    </tr>\n",
       "    <tr>\n",
       "      <th>std</th>\n",
       "      <td>5.389012</td>\n",
       "      <td>26.240079</td>\n",
       "      <td>1.003739</td>\n",
       "      <td>98.208174</td>\n",
       "      <td>0.366258</td>\n",
       "      <td>68.896946</td>\n",
       "      <td>22.322883</td>\n",
       "      <td>14.964082</td>\n",
       "      <td>98.216705</td>\n",
       "      <td>4.707560</td>\n",
       "    </tr>\n",
       "    <tr>\n",
       "      <th>min</th>\n",
       "      <td>-36.086009</td>\n",
       "      <td>-142.466650</td>\n",
       "      <td>1.000000</td>\n",
       "      <td>3.000000</td>\n",
       "      <td>0.000000</td>\n",
       "      <td>0.000000</td>\n",
       "      <td>0.000000</td>\n",
       "      <td>0.000000</td>\n",
       "      <td>1.000000</td>\n",
       "      <td>1.000000</td>\n",
       "    </tr>\n",
       "    <tr>\n",
       "      <th>25%</th>\n",
       "      <td>33.631550</td>\n",
       "      <td>-112.125879</td>\n",
       "      <td>3.000000</td>\n",
       "      <td>4.000000</td>\n",
       "      <td>1.000000</td>\n",
       "      <td>3.000000</td>\n",
       "      <td>1.000000</td>\n",
       "      <td>0.000000</td>\n",
       "      <td>4.000000</td>\n",
       "      <td>1.000000</td>\n",
       "    </tr>\n",
       "    <tr>\n",
       "      <th>50%</th>\n",
       "      <td>36.144257</td>\n",
       "      <td>-89.410128</td>\n",
       "      <td>3.500000</td>\n",
       "      <td>8.000000</td>\n",
       "      <td>1.000000</td>\n",
       "      <td>5.000000</td>\n",
       "      <td>2.000000</td>\n",
       "      <td>1.000000</td>\n",
       "      <td>8.000000</td>\n",
       "      <td>1.000000</td>\n",
       "    </tr>\n",
       "    <tr>\n",
       "      <th>75%</th>\n",
       "      <td>43.606181</td>\n",
       "      <td>-79.657609</td>\n",
       "      <td>4.500000</td>\n",
       "      <td>23.000000</td>\n",
       "      <td>1.000000</td>\n",
       "      <td>14.000000</td>\n",
       "      <td>6.000000</td>\n",
       "      <td>2.000000</td>\n",
       "      <td>23.000000</td>\n",
       "      <td>1.000000</td>\n",
       "    </tr>\n",
       "    <tr>\n",
       "      <th>max</th>\n",
       "      <td>89.999314</td>\n",
       "      <td>115.086769</td>\n",
       "      <td>5.000000</td>\n",
       "      <td>7361.000000</td>\n",
       "      <td>1.000000</td>\n",
       "      <td>5856.000000</td>\n",
       "      <td>1703.000000</td>\n",
       "      <td>1152.000000</td>\n",
       "      <td>7362.000000</td>\n",
       "      <td>861.000000</td>\n",
       "    </tr>\n",
       "  </tbody>\n",
       "</table>\n",
       "</div>"
      ],
      "text/plain": [
       "            latitude      longitude          stars   review_count  \\\n",
       "count  174566.000000  174566.000000  174567.000000  174567.000000   \n",
       "mean       38.627312     -92.679009       3.632196      30.137059   \n",
       "std         5.389012      26.240079       1.003739      98.208174   \n",
       "min       -36.086009    -142.466650       1.000000       3.000000   \n",
       "25%        33.631550    -112.125879       3.000000       4.000000   \n",
       "50%        36.144257     -89.410128       3.500000       8.000000   \n",
       "75%        43.606181     -79.657609       4.500000      23.000000   \n",
       "max        89.999314     115.086769       5.000000    7361.000000   \n",
       "\n",
       "             is_open  positive_reviews  negative_reviews  neutral_reviews  \\\n",
       "count  174567.000000     174567.000000     174567.000000    174567.000000   \n",
       "mean        0.840376         19.915923          6.699571         3.525758   \n",
       "std         0.366258         68.896946         22.322883        14.964082   \n",
       "min         0.000000          0.000000          0.000000         0.000000   \n",
       "25%         1.000000          3.000000          1.000000         0.000000   \n",
       "50%         1.000000          5.000000          2.000000         1.000000   \n",
       "75%         1.000000         14.000000          6.000000         2.000000   \n",
       "max         1.000000       5856.000000       1703.000000      1152.000000   \n",
       "\n",
       "       total_reviews  total_checkins  \n",
       "count  174567.000000   146350.000000  \n",
       "mean       30.141252        1.754554  \n",
       "std        98.216705        4.707560  \n",
       "min         1.000000        1.000000  \n",
       "25%         4.000000        1.000000  \n",
       "50%         8.000000        1.000000  \n",
       "75%        23.000000        1.000000  \n",
       "max      7362.000000      861.000000  "
      ]
     },
     "execution_count": 20,
     "metadata": {},
     "output_type": "execute_result"
    }
   ],
   "source": [
    "df.describe()"
   ]
  },
  {
   "cell_type": "code",
   "execution_count": 21,
   "metadata": {},
   "outputs": [
    {
     "data": {
      "text/plain": [
       "business_id             0\n",
       "name                    0\n",
       "latitude                1\n",
       "longitude               1\n",
       "city                    1\n",
       "state                   1\n",
       "stars                   0\n",
       "review_count            0\n",
       "is_open                 0\n",
       "positive_reviews        0\n",
       "negative_reviews        0\n",
       "neutral_reviews         0\n",
       "total_reviews           0\n",
       "total_checkins      28217\n",
       "dtype: int64"
      ]
     },
     "execution_count": 21,
     "metadata": {},
     "output_type": "execute_result"
    }
   ],
   "source": [
    "def checkNullQuantity(df):\n",
    "    return df.isnull().sum()\n",
    "\n",
    "checkNullQuantity(df)"
   ]
  },
  {
   "cell_type": "code",
   "execution_count": 22,
   "metadata": {},
   "outputs": [],
   "source": [
    "df.loc[df['city'].isnull(), 'city'] = 'Edinburgh'"
   ]
  },
  {
   "cell_type": "code",
   "execution_count": 23,
   "metadata": {},
   "outputs": [],
   "source": [
    "df.loc[df['state'].isnull(), 'city'] = 'Henderson'\n",
    "df.loc[df['state'].isnull(), 'state'] = 'NV'"
   ]
  },
  {
   "cell_type": "code",
   "execution_count": 24,
   "metadata": {},
   "outputs": [],
   "source": [
    "df.loc[df['longitude'].isnull(), 'longitude'] = -79.65156555\n",
    "df.loc[df['latitude'].isnull(), 'latitude'] = 43.78596696"
   ]
  },
  {
   "cell_type": "code",
   "execution_count": 25,
   "metadata": {},
   "outputs": [],
   "source": [
    "df['total_checkins'] = df['total_checkins'].fillna(0)"
   ]
  },
  {
   "cell_type": "code",
   "execution_count": 26,
   "metadata": {},
   "outputs": [
    {
     "data": {
      "text/plain": [
       "business_id         0\n",
       "name                0\n",
       "latitude            0\n",
       "longitude           0\n",
       "city                0\n",
       "state               0\n",
       "stars               0\n",
       "review_count        0\n",
       "is_open             0\n",
       "positive_reviews    0\n",
       "negative_reviews    0\n",
       "neutral_reviews     0\n",
       "total_reviews       0\n",
       "total_checkins      0\n",
       "dtype: int64"
      ]
     },
     "execution_count": 26,
     "metadata": {},
     "output_type": "execute_result"
    }
   ],
   "source": [
    "checkNullQuantity(df)"
   ]
  },
  {
   "cell_type": "code",
   "execution_count": 27,
   "metadata": {},
   "outputs": [
    {
     "data": {
      "text/html": [
       "<div>\n",
       "<style scoped>\n",
       "    .dataframe tbody tr th:only-of-type {\n",
       "        vertical-align: middle;\n",
       "    }\n",
       "\n",
       "    .dataframe tbody tr th {\n",
       "        vertical-align: top;\n",
       "    }\n",
       "\n",
       "    .dataframe thead th {\n",
       "        text-align: right;\n",
       "    }\n",
       "</style>\n",
       "<table border=\"1\" class=\"dataframe\">\n",
       "  <thead>\n",
       "    <tr style=\"text-align: right;\">\n",
       "      <th></th>\n",
       "      <th>latitude</th>\n",
       "      <th>longitude</th>\n",
       "      <th>stars</th>\n",
       "      <th>review_count</th>\n",
       "      <th>is_open</th>\n",
       "      <th>positive_reviews</th>\n",
       "      <th>negative_reviews</th>\n",
       "      <th>neutral_reviews</th>\n",
       "      <th>total_reviews</th>\n",
       "      <th>total_checkins</th>\n",
       "    </tr>\n",
       "  </thead>\n",
       "  <tbody>\n",
       "    <tr>\n",
       "      <th>count</th>\n",
       "      <td>174567.000000</td>\n",
       "      <td>174567.000000</td>\n",
       "      <td>174567.000000</td>\n",
       "      <td>174567.000000</td>\n",
       "      <td>174567.000000</td>\n",
       "      <td>174567.000000</td>\n",
       "      <td>174567.000000</td>\n",
       "      <td>174567.000000</td>\n",
       "      <td>174567.000000</td>\n",
       "      <td>174567.000000</td>\n",
       "    </tr>\n",
       "    <tr>\n",
       "      <th>mean</th>\n",
       "      <td>38.627342</td>\n",
       "      <td>-92.678934</td>\n",
       "      <td>3.632196</td>\n",
       "      <td>30.137059</td>\n",
       "      <td>0.840376</td>\n",
       "      <td>19.915923</td>\n",
       "      <td>6.699571</td>\n",
       "      <td>3.525758</td>\n",
       "      <td>30.141252</td>\n",
       "      <td>1.470948</td>\n",
       "    </tr>\n",
       "    <tr>\n",
       "      <th>std</th>\n",
       "      <td>5.389011</td>\n",
       "      <td>26.240022</td>\n",
       "      <td>1.003739</td>\n",
       "      <td>98.208174</td>\n",
       "      <td>0.366258</td>\n",
       "      <td>68.896946</td>\n",
       "      <td>22.322883</td>\n",
       "      <td>14.964082</td>\n",
       "      <td>98.216705</td>\n",
       "      <td>4.358458</td>\n",
       "    </tr>\n",
       "    <tr>\n",
       "      <th>min</th>\n",
       "      <td>-36.086009</td>\n",
       "      <td>-142.466650</td>\n",
       "      <td>1.000000</td>\n",
       "      <td>3.000000</td>\n",
       "      <td>0.000000</td>\n",
       "      <td>0.000000</td>\n",
       "      <td>0.000000</td>\n",
       "      <td>0.000000</td>\n",
       "      <td>1.000000</td>\n",
       "      <td>0.000000</td>\n",
       "    </tr>\n",
       "    <tr>\n",
       "      <th>25%</th>\n",
       "      <td>33.631550</td>\n",
       "      <td>-112.125877</td>\n",
       "      <td>3.000000</td>\n",
       "      <td>4.000000</td>\n",
       "      <td>1.000000</td>\n",
       "      <td>3.000000</td>\n",
       "      <td>1.000000</td>\n",
       "      <td>0.000000</td>\n",
       "      <td>4.000000</td>\n",
       "      <td>1.000000</td>\n",
       "    </tr>\n",
       "    <tr>\n",
       "      <th>50%</th>\n",
       "      <td>36.144262</td>\n",
       "      <td>-89.410122</td>\n",
       "      <td>3.500000</td>\n",
       "      <td>8.000000</td>\n",
       "      <td>1.000000</td>\n",
       "      <td>5.000000</td>\n",
       "      <td>2.000000</td>\n",
       "      <td>1.000000</td>\n",
       "      <td>8.000000</td>\n",
       "      <td>1.000000</td>\n",
       "    </tr>\n",
       "    <tr>\n",
       "      <th>75%</th>\n",
       "      <td>43.606209</td>\n",
       "      <td>-79.657592</td>\n",
       "      <td>4.500000</td>\n",
       "      <td>23.000000</td>\n",
       "      <td>1.000000</td>\n",
       "      <td>14.000000</td>\n",
       "      <td>6.000000</td>\n",
       "      <td>2.000000</td>\n",
       "      <td>23.000000</td>\n",
       "      <td>1.000000</td>\n",
       "    </tr>\n",
       "    <tr>\n",
       "      <th>max</th>\n",
       "      <td>89.999314</td>\n",
       "      <td>115.086769</td>\n",
       "      <td>5.000000</td>\n",
       "      <td>7361.000000</td>\n",
       "      <td>1.000000</td>\n",
       "      <td>5856.000000</td>\n",
       "      <td>1703.000000</td>\n",
       "      <td>1152.000000</td>\n",
       "      <td>7362.000000</td>\n",
       "      <td>861.000000</td>\n",
       "    </tr>\n",
       "  </tbody>\n",
       "</table>\n",
       "</div>"
      ],
      "text/plain": [
       "            latitude      longitude          stars   review_count  \\\n",
       "count  174567.000000  174567.000000  174567.000000  174567.000000   \n",
       "mean       38.627342     -92.678934       3.632196      30.137059   \n",
       "std         5.389011      26.240022       1.003739      98.208174   \n",
       "min       -36.086009    -142.466650       1.000000       3.000000   \n",
       "25%        33.631550    -112.125877       3.000000       4.000000   \n",
       "50%        36.144262     -89.410122       3.500000       8.000000   \n",
       "75%        43.606209     -79.657592       4.500000      23.000000   \n",
       "max        89.999314     115.086769       5.000000    7361.000000   \n",
       "\n",
       "             is_open  positive_reviews  negative_reviews  neutral_reviews  \\\n",
       "count  174567.000000     174567.000000     174567.000000    174567.000000   \n",
       "mean        0.840376         19.915923          6.699571         3.525758   \n",
       "std         0.366258         68.896946         22.322883        14.964082   \n",
       "min         0.000000          0.000000          0.000000         0.000000   \n",
       "25%         1.000000          3.000000          1.000000         0.000000   \n",
       "50%         1.000000          5.000000          2.000000         1.000000   \n",
       "75%         1.000000         14.000000          6.000000         2.000000   \n",
       "max         1.000000       5856.000000       1703.000000      1152.000000   \n",
       "\n",
       "       total_reviews  total_checkins  \n",
       "count  174567.000000   174567.000000  \n",
       "mean       30.141252        1.470948  \n",
       "std        98.216705        4.358458  \n",
       "min         1.000000        0.000000  \n",
       "25%         4.000000        1.000000  \n",
       "50%         8.000000        1.000000  \n",
       "75%        23.000000        1.000000  \n",
       "max      7362.000000      861.000000  "
      ]
     },
     "execution_count": 27,
     "metadata": {},
     "output_type": "execute_result"
    }
   ],
   "source": [
    "df.describe()"
   ]
  },
  {
   "cell_type": "code",
   "execution_count": 28,
   "metadata": {},
   "outputs": [],
   "source": [
    "#Verificar outliers\n",
    "\n",
    "def plot_boxplot(nrows, ncols, index, df, column):\n",
    "    plt.subplot(nrows, ncols, index)\n",
    "    fig = sns.boxplot(x=column, data=df, orient='v')\n",
    "    fig.set_title('BoxPlot: {}'.format(column))\n",
    "    fig.set_ylabel('Values')\n",
    "    \n",
    "def plot_distribution(nrows, ncols, index, df, column):\n",
    "    plt.subplot(nrows, ncols, index)\n",
    "    fig = sns.distplot(df[column], hist=False, kde_kws={'bw':0.1})\n",
    "    #fig = df[column].hist(bins=25)\n",
    "    fig.set_title('Distribution: {}'.format(column))\n",
    "    fig.set_ylabel('Values')"
   ]
  },
  {
   "cell_type": "code",
   "execution_count": 29,
   "metadata": {},
   "outputs": [
    {
     "data": {
      "image/png": "[encoded data removed]",
      "text/plain": [
       "<matplotlib.figure.Figure at 0x22179475940>"
      ]
     },
     "metadata": {},
     "output_type": "display_data"
    }
   ],
   "source": [
    "plt.figure(figsize=(15, 6))\n",
    "\n",
    "plot_boxplot(1, 2, 1, df, 'total_reviews')\n",
    "plot_boxplot(1, 2, 2, df, 'total_checkins')"
   ]
  },
  {
   "cell_type": "code",
   "execution_count": 30,
   "metadata": {
    "scrolled": true
   },
   "outputs": [
    {
     "data": {
      "image/png": "[encoded data removed]",
      "text/plain": [
       "<matplotlib.figure.Figure at 0x22188582908>"
      ]
     },
     "metadata": {},
     "output_type": "display_data"
    }
   ],
   "source": [
    "plt.figure(figsize=(15, 4))\n",
    "\n",
    "plot_distribution(1, 2, 1, df, 'total_reviews')\n",
    "plot_distribution(1, 2, 2, df, 'total_checkins')"
   ]
  },
  {
   "cell_type": "code",
   "execution_count": 31,
   "metadata": {},
   "outputs": [],
   "source": [
    "df['positive_reviews'] = df['positive_reviews'] / df['total_reviews']\n",
    "df['negative_reviews'] = df['negative_reviews'] / df['total_reviews']\n",
    "df['neutral_reviews'] = df['neutral_reviews'] / df['total_reviews']"
   ]
  },
  {
   "cell_type": "code",
   "execution_count": 32,
   "metadata": {},
   "outputs": [],
   "source": [
    "df.loc[df['total_checkins'] == 0, 'number_checkins'] = 'None'\n",
    "df.loc[(df['total_checkins'] > 0) & (df['total_checkins'] <= 5), 'number_checkins'] = 'Normal'\n",
    "df.loc[df['total_checkins'] > 5, 'number_checkins'] = 'High'"
   ]
  },
  {
   "cell_type": "code",
   "execution_count": 33,
   "metadata": {},
   "outputs": [],
   "source": [
    "#def get_outliers_limits(df, column):\n",
    "#    q1 = df[column].quantile(q=0.25)\n",
    "#    q3 = df[column].quantile(q=0.75)\n",
    "#    amp = q3 - q1\n",
    "#    lim_max = q3 + 3 * amp\n",
    "#    lim_min = q1 - 3 * amp\n",
    "#    return [lim_min, lim_max]\n",
    "\n",
    "#def get_outliers(df, column, lim_min, lim_max):\n",
    "#    return df[(df[column] > lim_max) | (df[column] < lim_min)]\n",
    "\n",
    "#def show_counted_outliers(df, column, lim_min, lim_max):\n",
    "#    print('{}: {}'.format(column, get_outliers(df, column, lim_min, lim_max)[column].count()))"
   ]
  },
  {
   "cell_type": "code",
   "execution_count": 34,
   "metadata": {},
   "outputs": [],
   "source": [
    "#review_count_limits = get_outliers_limits(df, 'review_count')\n",
    "#total_checkins_limits = get_outliers_limits(df, 'total_checkins')\n",
    "\n",
    "#print('review_count: {}'.format(review_count_limits))\n",
    "#print('total_checkins: {}'.format(total_checkins_limits))"
   ]
  },
  {
   "cell_type": "code",
   "execution_count": 35,
   "metadata": {},
   "outputs": [],
   "source": [
    "#show_counted_outliers(df, 'review_count', review_count_limits[0], review_count_limits[1])\n",
    "#show_counted_outliers(df, 'total_checkins', total_checkins_limits[0], total_checkins_limits[1])"
   ]
  },
  {
   "cell_type": "code",
   "execution_count": 36,
   "metadata": {},
   "outputs": [],
   "source": [
    "#total_checkins_new_limit = df['total_checkins'].mean() + 3 * df['total_checkins'].std()\n",
    "\n",
    "#show_counted_outliers(df, 'total_checkins', 0, total_checkins_new_limit)"
   ]
  },
  {
   "cell_type": "code",
   "execution_count": 37,
   "metadata": {},
   "outputs": [],
   "source": [
    "#df.loc[df['review_count'] > review_count_limits[1], 'review_count'] = review_count_limits[1]\n",
    "#df.loc[df['total_checkins'] > total_checkins_new_limit, 'total_checkins'] = total_checkins_new_limit"
   ]
  },
  {
   "cell_type": "code",
   "execution_count": 38,
   "metadata": {},
   "outputs": [],
   "source": [
    "# Dados raros\n",
    "by_state = df.groupby('state')\n",
    "other_states = by_state['business_id'].count()\n",
    "other_states = other_states.loc[other_states <= 10].index\n",
    "\n",
    "by_city = df.groupby('city')\n",
    "other_cities = by_city['business_id'].count()\n",
    "other_cities = other_cities.loc[other_cities <= 10].index"
   ]
  },
  {
   "cell_type": "code",
   "execution_count": 39,
   "metadata": {},
   "outputs": [],
   "source": [
    "for item in other_states:\n",
    "    df.loc[df['state'] == item, 'state'] = 'Other'\n",
    "\n",
    "for item in other_cities:\n",
    "    df.loc[df['city'] == item, 'city'] = 'Other'"
   ]
  },
  {
   "cell_type": "code",
   "execution_count": 40,
   "metadata": {},
   "outputs": [
    {
     "data": {
      "text/html": [
       "<div>\n",
       "<style scoped>\n",
       "    .dataframe tbody tr th:only-of-type {\n",
       "        vertical-align: middle;\n",
       "    }\n",
       "\n",
       "    .dataframe tbody tr th {\n",
       "        vertical-align: top;\n",
       "    }\n",
       "\n",
       "    .dataframe thead th {\n",
       "        text-align: right;\n",
       "    }\n",
       "</style>\n",
       "<table border=\"1\" class=\"dataframe\">\n",
       "  <thead>\n",
       "    <tr style=\"text-align: right;\">\n",
       "      <th></th>\n",
       "      <th>business_id</th>\n",
       "      <th>name</th>\n",
       "      <th>latitude</th>\n",
       "      <th>longitude</th>\n",
       "      <th>city</th>\n",
       "      <th>state</th>\n",
       "      <th>stars</th>\n",
       "      <th>review_count</th>\n",
       "      <th>is_open</th>\n",
       "      <th>positive_reviews</th>\n",
       "      <th>negative_reviews</th>\n",
       "      <th>neutral_reviews</th>\n",
       "      <th>total_reviews</th>\n",
       "      <th>total_checkins</th>\n",
       "      <th>number_checkins</th>\n",
       "    </tr>\n",
       "  </thead>\n",
       "  <tbody>\n",
       "    <tr>\n",
       "      <th>0</th>\n",
       "      <td>FYWN1wneV18bWNgQjJ2GNg</td>\n",
       "      <td>\"Dental by Design\"</td>\n",
       "      <td>33.330690</td>\n",
       "      <td>-111.978599</td>\n",
       "      <td>Ahwatukee</td>\n",
       "      <td>AZ</td>\n",
       "      <td>4.0</td>\n",
       "      <td>22</td>\n",
       "      <td>1</td>\n",
       "      <td>0.739130</td>\n",
       "      <td>0.217391</td>\n",
       "      <td>0.043478</td>\n",
       "      <td>23</td>\n",
       "      <td>1.0</td>\n",
       "      <td>Normal</td>\n",
       "    </tr>\n",
       "    <tr>\n",
       "      <th>1</th>\n",
       "      <td>He-G7vWjzVUysIKrfNbPUQ</td>\n",
       "      <td>\"Stephen Szabo Salon\"</td>\n",
       "      <td>40.291685</td>\n",
       "      <td>-80.104900</td>\n",
       "      <td>McMurray</td>\n",
       "      <td>PA</td>\n",
       "      <td>3.0</td>\n",
       "      <td>11</td>\n",
       "      <td>1</td>\n",
       "      <td>0.454545</td>\n",
       "      <td>0.545455</td>\n",
       "      <td>0.000000</td>\n",
       "      <td>11</td>\n",
       "      <td>1.0</td>\n",
       "      <td>Normal</td>\n",
       "    </tr>\n",
       "    <tr>\n",
       "      <th>2</th>\n",
       "      <td>KQPW8lFf1y5BT2MxiSZ3QA</td>\n",
       "      <td>\"Western Motor Vehicle\"</td>\n",
       "      <td>33.524903</td>\n",
       "      <td>-112.115310</td>\n",
       "      <td>Phoenix</td>\n",
       "      <td>AZ</td>\n",
       "      <td>1.5</td>\n",
       "      <td>18</td>\n",
       "      <td>1</td>\n",
       "      <td>0.111111</td>\n",
       "      <td>0.777778</td>\n",
       "      <td>0.111111</td>\n",
       "      <td>18</td>\n",
       "      <td>1.0</td>\n",
       "      <td>Normal</td>\n",
       "    </tr>\n",
       "    <tr>\n",
       "      <th>3</th>\n",
       "      <td>8DShNS-LuFqpEWIp0HxijA</td>\n",
       "      <td>\"Sports Authority\"</td>\n",
       "      <td>33.383147</td>\n",
       "      <td>-111.964725</td>\n",
       "      <td>Tempe</td>\n",
       "      <td>AZ</td>\n",
       "      <td>3.0</td>\n",
       "      <td>9</td>\n",
       "      <td>0</td>\n",
       "      <td>0.444444</td>\n",
       "      <td>0.555556</td>\n",
       "      <td>0.000000</td>\n",
       "      <td>9</td>\n",
       "      <td>1.0</td>\n",
       "      <td>Normal</td>\n",
       "    </tr>\n",
       "    <tr>\n",
       "      <th>4</th>\n",
       "      <td>PfOCPjBrlQAnz__NXj9h_w</td>\n",
       "      <td>\"Brick House Tavern + Tap\"</td>\n",
       "      <td>41.119535</td>\n",
       "      <td>-81.475690</td>\n",
       "      <td>Cuyahoga Falls</td>\n",
       "      <td>OH</td>\n",
       "      <td>3.5</td>\n",
       "      <td>116</td>\n",
       "      <td>1</td>\n",
       "      <td>0.551724</td>\n",
       "      <td>0.250000</td>\n",
       "      <td>0.198276</td>\n",
       "      <td>116</td>\n",
       "      <td>1.0</td>\n",
       "      <td>Normal</td>\n",
       "    </tr>\n",
       "    <tr>\n",
       "      <th>5</th>\n",
       "      <td>o9eMRCWt5PkpLDE0gOPtcQ</td>\n",
       "      <td>\"Messina\"</td>\n",
       "      <td>48.727200</td>\n",
       "      <td>9.147950</td>\n",
       "      <td>Stuttgart</td>\n",
       "      <td>BW</td>\n",
       "      <td>4.0</td>\n",
       "      <td>5</td>\n",
       "      <td>1</td>\n",
       "      <td>0.800000</td>\n",
       "      <td>0.200000</td>\n",
       "      <td>0.000000</td>\n",
       "      <td>5</td>\n",
       "      <td>1.0</td>\n",
       "      <td>Normal</td>\n",
       "    </tr>\n",
       "    <tr>\n",
       "      <th>6</th>\n",
       "      <td>kCoE3jvEtg6UVz5SOD3GVw</td>\n",
       "      <td>\"BDJ Realty\"</td>\n",
       "      <td>36.207430</td>\n",
       "      <td>-115.268460</td>\n",
       "      <td>Las Vegas</td>\n",
       "      <td>NV</td>\n",
       "      <td>4.0</td>\n",
       "      <td>5</td>\n",
       "      <td>1</td>\n",
       "      <td>0.800000</td>\n",
       "      <td>0.200000</td>\n",
       "      <td>0.000000</td>\n",
       "      <td>5</td>\n",
       "      <td>0.0</td>\n",
       "      <td>None</td>\n",
       "    </tr>\n",
       "    <tr>\n",
       "      <th>7</th>\n",
       "      <td>OD2hnuuTJI9uotcKycxg1A</td>\n",
       "      <td>\"Soccer Zone\"</td>\n",
       "      <td>36.197484</td>\n",
       "      <td>-115.249660</td>\n",
       "      <td>Las Vegas</td>\n",
       "      <td>NV</td>\n",
       "      <td>1.5</td>\n",
       "      <td>9</td>\n",
       "      <td>1</td>\n",
       "      <td>0.111111</td>\n",
       "      <td>0.888889</td>\n",
       "      <td>0.000000</td>\n",
       "      <td>9</td>\n",
       "      <td>1.0</td>\n",
       "      <td>Normal</td>\n",
       "    </tr>\n",
       "    <tr>\n",
       "      <th>8</th>\n",
       "      <td>EsMcGiZaQuG1OOvL9iUFug</td>\n",
       "      <td>\"Any Given Sundae\"</td>\n",
       "      <td>40.615102</td>\n",
       "      <td>-80.091349</td>\n",
       "      <td>Wexford</td>\n",
       "      <td>PA</td>\n",
       "      <td>5.0</td>\n",
       "      <td>15</td>\n",
       "      <td>1</td>\n",
       "      <td>0.933333</td>\n",
       "      <td>0.000000</td>\n",
       "      <td>0.066667</td>\n",
       "      <td>15</td>\n",
       "      <td>1.0</td>\n",
       "      <td>Normal</td>\n",
       "    </tr>\n",
       "    <tr>\n",
       "      <th>9</th>\n",
       "      <td>TGWhGNusxyMaA4kQVBNeew</td>\n",
       "      <td>\"Detailing Gone Mobile\"</td>\n",
       "      <td>36.055825</td>\n",
       "      <td>-115.046350</td>\n",
       "      <td>Henderson</td>\n",
       "      <td>NV</td>\n",
       "      <td>5.0</td>\n",
       "      <td>7</td>\n",
       "      <td>1</td>\n",
       "      <td>1.000000</td>\n",
       "      <td>0.000000</td>\n",
       "      <td>0.000000</td>\n",
       "      <td>7</td>\n",
       "      <td>1.0</td>\n",
       "      <td>Normal</td>\n",
       "    </tr>\n",
       "  </tbody>\n",
       "</table>\n",
       "</div>"
      ],
      "text/plain": [
       "              business_id                        name   latitude   longitude  \\\n",
       "0  FYWN1wneV18bWNgQjJ2GNg          \"Dental by Design\"  33.330690 -111.978599   \n",
       "1  He-G7vWjzVUysIKrfNbPUQ       \"Stephen Szabo Salon\"  40.291685  -80.104900   \n",
       "2  KQPW8lFf1y5BT2MxiSZ3QA     \"Western Motor Vehicle\"  33.524903 -112.115310   \n",
       "3  8DShNS-LuFqpEWIp0HxijA          \"Sports Authority\"  33.383147 -111.964725   \n",
       "4  PfOCPjBrlQAnz__NXj9h_w  \"Brick House Tavern + Tap\"  41.119535  -81.475690   \n",
       "5  o9eMRCWt5PkpLDE0gOPtcQ                   \"Messina\"  48.727200    9.147950   \n",
       "6  kCoE3jvEtg6UVz5SOD3GVw                \"BDJ Realty\"  36.207430 -115.268460   \n",
       "7  OD2hnuuTJI9uotcKycxg1A               \"Soccer Zone\"  36.197484 -115.249660   \n",
       "8  EsMcGiZaQuG1OOvL9iUFug          \"Any Given Sundae\"  40.615102  -80.091349   \n",
       "9  TGWhGNusxyMaA4kQVBNeew     \"Detailing Gone Mobile\"  36.055825 -115.046350   \n",
       "\n",
       "             city state  stars  review_count  is_open  positive_reviews  \\\n",
       "0       Ahwatukee    AZ    4.0            22        1          0.739130   \n",
       "1        McMurray    PA    3.0            11        1          0.454545   \n",
       "2         Phoenix    AZ    1.5            18        1          0.111111   \n",
       "3           Tempe    AZ    3.0             9        0          0.444444   \n",
       "4  Cuyahoga Falls    OH    3.5           116        1          0.551724   \n",
       "5       Stuttgart    BW    4.0             5        1          0.800000   \n",
       "6       Las Vegas    NV    4.0             5        1          0.800000   \n",
       "7       Las Vegas    NV    1.5             9        1          0.111111   \n",
       "8         Wexford    PA    5.0            15        1          0.933333   \n",
       "9       Henderson    NV    5.0             7        1          1.000000   \n",
       "\n",
       "   negative_reviews  neutral_reviews  total_reviews  total_checkins  \\\n",
       "0          0.217391         0.043478             23             1.0   \n",
       "1          0.545455         0.000000             11             1.0   \n",
       "2          0.777778         0.111111             18             1.0   \n",
       "3          0.555556         0.000000              9             1.0   \n",
       "4          0.250000         0.198276            116             1.0   \n",
       "5          0.200000         0.000000              5             1.0   \n",
       "6          0.200000         0.000000              5             0.0   \n",
       "7          0.888889         0.000000              9             1.0   \n",
       "8          0.000000         0.066667             15             1.0   \n",
       "9          0.000000         0.000000              7             1.0   \n",
       "\n",
       "  number_checkins  \n",
       "0          Normal  \n",
       "1          Normal  \n",
       "2          Normal  \n",
       "3          Normal  \n",
       "4          Normal  \n",
       "5          Normal  \n",
       "6            None  \n",
       "7          Normal  \n",
       "8          Normal  \n",
       "9          Normal  "
      ]
     },
     "execution_count": 40,
     "metadata": {},
     "output_type": "execute_result"
    }
   ],
   "source": [
    "df.head(10)"
   ]
  },
  {
   "cell_type": "code",
   "execution_count": 41,
   "metadata": {},
   "outputs": [],
   "source": [
    "#state_ordinal = {j: i for i, j in enumerate(df['state'].unique(), 0)}\n",
    "#df['state'] = df['state'].map(state_ordinal)"
   ]
  },
  {
   "cell_type": "code",
   "execution_count": 42,
   "metadata": {},
   "outputs": [],
   "source": [
    "#city_ordinal = {k: i for i, k in enumerate(df['city'].unique(), 0)}\n",
    "#df['city'] = df['city'].map(city_ordinal)"
   ]
  },
  {
   "cell_type": "code",
   "execution_count": 43,
   "metadata": {},
   "outputs": [
    {
     "data": {
      "text/plain": [
       "(array([0, 1, 2, 3, 4, 5, 6, 7, 8]), <a list of 9 Text xticklabel objects>)"
      ]
     },
     "execution_count": 43,
     "metadata": {},
     "output_type": "execute_result"
    },
    {
     "data": {
      "image/png": "[encoded data removed]",
      "text/plain": [
       "<matplotlib.figure.Figure at 0x2213db1ef60>"
      ]
     },
     "metadata": {},
     "output_type": "display_data"
    }
   ],
   "source": [
    "# Stars\n",
    "plt.figure(figsize=(16, 6))\n",
    "sns.countplot('stars', hue='is_open', data=df)\n",
    "plt.xticks(\n",
    "    rotation=45,\n",
    "    horizontalalignment='right',\n",
    "    fontweight='light',\n",
    "    fontsize='x-large'\n",
    ")"
   ]
  },
  {
   "cell_type": "code",
   "execution_count": 44,
   "metadata": {
    "scrolled": true
   },
   "outputs": [
    {
     "data": {
      "text/plain": [
       "1    146702\n",
       "0     27865\n",
       "Name: is_open, dtype: int64"
      ]
     },
     "execution_count": 44,
     "metadata": {},
     "output_type": "execute_result"
    }
   ],
   "source": [
    "df['is_open'].value_counts()"
   ]
  },
  {
   "cell_type": "code",
   "execution_count": 45,
   "metadata": {},
   "outputs": [
    {
     "data": {
      "image/png": "[encoded data removed]",
      "text/plain": [
       "<matplotlib.figure.Figure at 0x2220fa129b0>"
      ]
     },
     "metadata": {},
     "output_type": "display_data"
    }
   ],
   "source": [
    "plt.figure(figsize=(6,6))\n",
    "sns.countplot(x='is_open', data=df);"
   ]
  },
  {
   "cell_type": "code",
   "execution_count": 46,
   "metadata": {},
   "outputs": [
    {
     "data": {
      "image/png": "[encoded data removed]",
      "text/plain": [
       "<matplotlib.figure.Figure at 0x2224e12a898>"
      ]
     },
     "metadata": {},
     "output_type": "display_data"
    }
   ],
   "source": [
    "# States and cities\n",
    "f,ax = plt.subplots(1,2, figsize=(14,8))\n",
    "ax1,ax2, = ax.flatten()\n",
    "\n",
    "cnt = df['city'].value_counts()[:20].to_frame()\n",
    "\n",
    "sns.barplot(cnt['city'], cnt.index, palette = 'gist_rainbow', ax=ax1)\n",
    "ax1.set_xlabel('')\n",
    "ax1.set_title('Top city business')\n",
    "\n",
    "cnt = df['state'].value_counts()[:20].to_frame()\n",
    "\n",
    "sns.barplot(cnt['state'], cnt.index, palette = 'coolwarm', ax=ax2)\n",
    "ax2.set_xlabel('')\n",
    "ax2.set_title('Top state business');"
   ]
  },
  {
   "cell_type": "code",
   "execution_count": 47,
   "metadata": {},
   "outputs": [
    {
     "name": "stdout",
     "output_type": "stream",
     "text": [
      "24 333\n"
     ]
    }
   ],
   "source": [
    "print(len(df['state'].value_counts()), len(df['city'].value_counts()))"
   ]
  },
  {
   "cell_type": "code",
   "execution_count": 48,
   "metadata": {},
   "outputs": [],
   "source": [
    "# States que mais fecharam"
   ]
  },
  {
   "cell_type": "code",
   "execution_count": 49,
   "metadata": {},
   "outputs": [],
   "source": [
    "#df_cols = ['latitude', 'longitude', 'review_count', 'positive_reviews', 'negative_reviews', 'neutral_reviews', 'starsMean', 'TotalCheckins', 'city', 'state']\n",
    "\n",
    "#X = df[df_cols]\n",
    "#y = df['is_open']"
   ]
  },
  {
   "cell_type": "code",
   "execution_count": 50,
   "metadata": {},
   "outputs": [],
   "source": [
    "#X_train, X_test, y_train, y_test = train_test_split(X, y, random_state = 1, stratify=y)"
   ]
  },
  {
   "cell_type": "code",
   "execution_count": 51,
   "metadata": {},
   "outputs": [],
   "source": [
    "#lr = LogisticRegression()\n",
    "\n",
    "#lr.fit(X_train, y_train)\n",
    "\n",
    "#lr"
   ]
  },
  {
   "cell_type": "code",
   "execution_count": 52,
   "metadata": {},
   "outputs": [],
   "source": [
    "#y_pred = lr.predict(X_test)\n",
    "#y_pred"
   ]
  },
  {
   "cell_type": "code",
   "execution_count": 53,
   "metadata": {},
   "outputs": [],
   "source": [
    "#accuracy_score(y_test, y_pred)"
   ]
  },
  {
   "cell_type": "code",
   "execution_count": 54,
   "metadata": {},
   "outputs": [],
   "source": [
    "#print(classification_report(y_test, y_pred))"
   ]
  },
  {
   "cell_type": "code",
   "execution_count": 55,
   "metadata": {},
   "outputs": [],
   "source": [
    "#print(pd.crosstab(y_test, y_pred, rownames=['Real'], colnames=['Predito'], margins=True))"
   ]
  },
  {
   "cell_type": "code",
   "execution_count": 56,
   "metadata": {},
   "outputs": [
    {
     "name": "stdout",
     "output_type": "stream",
     "text": [
      "Warning: Maximum number of iterations has been exceeded.\n",
      "         Current function value: 0.428753\n",
      "         Iterations: 35\n",
      "         Function evaluations: 37\n",
      "         Gradient evaluations: 37\n"
     ]
    },
    {
     "name": "stderr",
     "output_type": "stream",
     "text": [
      "C:\\Users\\amaur\\Anaconda3\\lib\\site-packages\\statsmodels\\base\\model.py:568: ConvergenceWarning: Maximum Likelihood optimization failed to converge. Check mle_retvals\n",
      "  \"Check mle_retvals\", ConvergenceWarning)\n"
     ]
    },
    {
     "data": {
      "text/plain": [
       "positive_reviews     7.884650e-43\n",
       "negative_reviews    5.213010e-151\n",
       "neutral_reviews     1.253691e-174\n",
       "stars               4.357985e-174\n",
       "dtype: float64"
      ]
     },
     "execution_count": 56,
     "metadata": {},
     "output_type": "execute_result"
    }
   ],
   "source": [
    "#modelo_v1 = sm.Logit(df['is_open'], df[['latitude', 'longitude', 'review_count', 'positive_reviews', 'negative_reviews', 'neutral_reviews', 'stars', 'TotalCheckins']]);\n",
    "modelo_v1 = sm.Logit(df['is_open'], df[['positive_reviews', 'negative_reviews', 'neutral_reviews', 'stars']]);\n",
    "modelo_v2 = modelo_v1.fit(method='bfgs')\n",
    "\n",
    "modelo_v2.pvalues"
   ]
  },
  {
   "cell_type": "code",
   "execution_count": 57,
   "metadata": {},
   "outputs": [],
   "source": [
    "df_check_chi2 = df.copy()\n",
    "\n",
    "state_ordinal = {j: i for i, j in enumerate(df_check_chi2['state'].unique(), 0)}\n",
    "df_check_chi2['state'] = df_check_chi2['state'].map(state_ordinal)\n",
    "\n",
    "#city_ordinal = {j: i for i, j in enumerate(df_check_chi2['city'].unique(), 0)}\n",
    "#df_check_chi2['city'] = df_check_chi2['city'].map(city_ordinal)\n",
    "\n",
    "number_checkins_ordinal = {j: i for i, j in enumerate(df_check_chi2['number_checkins'].unique(), 0)}\n",
    "df_check_chi2['number_checkins'] = df_check_chi2['number_checkins'].map(number_checkins_ordinal)"
   ]
  },
  {
   "cell_type": "code",
   "execution_count": 58,
   "metadata": {},
   "outputs": [
    {
     "data": {
      "text/plain": [
       "array([1.17577665e-12, 1.38614455e-57])"
      ]
     },
     "execution_count": 58,
     "metadata": {},
     "output_type": "execute_result"
    }
   ],
   "source": [
    "#valor_p = chi2(df[['state', 'city']], df['is_open'])\n",
    "#valor_p = chi2([state_dummies, city_dummies], df['is_open'])\n",
    "#valor_p = chi2([number_checkins_dummies, state_dummies], y)\n",
    "\n",
    "valor_p = chi2(df_check_chi2[['state', 'number_checkins']], df_check_chi2['is_open'])\n",
    "valor_p[1]"
   ]
  },
  {
   "cell_type": "code",
   "execution_count": 59,
   "metadata": {},
   "outputs": [],
   "source": [
    "# Dummies\n",
    "number_checkins_dummies = pd.get_dummies(df['number_checkins'], prefix='number_checkins')\n",
    "state_dummies = pd.get_dummies(df['state'], prefix='state')\n",
    "#city_dummies = pd.get_dummies(df['city'], prefix='city')"
   ]
  },
  {
   "cell_type": "code",
   "execution_count": 60,
   "metadata": {},
   "outputs": [],
   "source": [
    "y = df['is_open']\n",
    "\n",
    "#df_cols = ['latitude', 'longitude', 'review_count', 'positive_reviews', 'negative_reviews', 'neutral_reviews', 'stars', 'TotalCheckins']\n",
    "#df = df[df_cols]\n",
    "\n",
    "#X = pd.concat([df, state_dummies, city_dummies], axis=1)\n",
    "\n",
    "df_cols = ['positive_reviews', 'negative_reviews', 'neutral_reviews', 'stars']\n",
    "df = df[df_cols]\n",
    "\n",
    "X = pd.concat([df, number_checkins_dummies, state_dummies], axis=1)\n",
    "#X = pd.concat([df, number_checkins_dummies, city_dummies], axis=1)"
   ]
  },
  {
   "cell_type": "code",
   "execution_count": 61,
   "metadata": {},
   "outputs": [
    {
     "data": {
      "image/png": "[encoded data removed]",
      "text/plain": [
       "<matplotlib.figure.Figure at 0x221793e2cc0>"
      ]
     },
     "metadata": {},
     "output_type": "display_data"
    }
   ],
   "source": [
    "#Aplicando NearMiss\n",
    "nr = NearMiss()\n",
    "\n",
    "X, y = nr.fit_sample(X, y)\n",
    "ax = sns.countplot(x=y)"
   ]
  },
  {
   "cell_type": "code",
   "execution_count": 70,
   "metadata": {},
   "outputs": [
    {
     "data": {
      "image/png": "[encoded data removed]",
      "text/plain": [
       "<matplotlib.figure.Figure at 0x159beffe518>"
      ]
     },
     "execution_count": 70,
     "metadata": {},
     "output_type": "execute_result"
    }
   ],
   "source": [
    "#Aplicando o SMOTE\n",
    "smt = SMOTE()\n",
    "\n",
    "X, y = smt.fit_sample(X, y)\n",
    "ax = sns.countplot(x=y)"
   ]
  },
  {
   "cell_type": "code",
   "execution_count": 141,
   "metadata": {},
   "outputs": [
    {
     "data": {
      "text/plain": [
       "array([[-0.98574931, -0.70256308, -0.09636115, ..., -0.06274614,\n",
       "        -0.45501345, -1.14651912],\n",
       "       [ 0.25017961,  0.48931793, -0.22655639, ..., -0.06274614,\n",
       "        -0.33343899, -0.83072998],\n",
       "       [ 0.87546958,  0.51985363, -0.03126352, ..., -0.06274614,\n",
       "        -0.23212694,  0.43242656],\n",
       "       ...,\n",
       "       [-0.93667037, -0.70423974, -0.22655639, ..., -0.06274614,\n",
       "         0.01102198, -1.14651912],\n",
       "       [ 0.47955517,  0.43470697, -0.22655639, ..., -0.63675175,\n",
       "         0.31495813, -0.51494085],\n",
       "       [-0.65870842,  0.46358956, -0.22655639, ..., -0.63675175,\n",
       "        -0.25238935,  0.74821569]])"
      ]
     },
     "execution_count": 141,
     "metadata": {},
     "output_type": "execute_result"
    }
   ],
   "source": [
    "scaler = StandardScaler()\n",
    "X_scaled = scaler.fit_transform(X)\n",
    "X_scaled"
   ]
  },
  {
   "cell_type": "code",
   "execution_count": 62,
   "metadata": {},
   "outputs": [],
   "source": [
    "num_folds = 10\n",
    "num_instances = len(X)\n",
    "seed = 7"
   ]
  },
  {
   "cell_type": "code",
   "execution_count": 66,
   "metadata": {},
   "outputs": [],
   "source": [
    "modelos = []\n",
    "modelos.append(('LR', LogisticRegression()))\n",
    "modelos.append(('LDA', LinearDiscriminantAnalysis()))\n",
    "modelos.append(('NB', GaussianNB()))\n",
    "modelos.append(('KNN', KNeighborsClassifier()))\n",
    "modelos.append(('CART', DecisionTreeClassifier()))\n",
    "modelos.append(('ADA', AdaBoostClassifier()))\n",
    "modelos.append(('GBM', GradientBoostingClassifier()))\n",
    "modelos.append(('RF', RandomForestClassifier()))\n",
    "modelos.append(('XGB', xgb.XGBClassifier()))\n",
    "modelos.append(('SVM', SVC()))"
   ]
  },
  {
   "cell_type": "code",
   "execution_count": null,
   "metadata": {},
   "outputs": [
    {
     "name": "stderr",
     "output_type": "stream",
     "text": [
      "C:\\Users\\amaur\\Anaconda3\\lib\\site-packages\\sklearn\\linear_model\\_logistic.py:940: ConvergenceWarning: lbfgs failed to converge (status=1):\n",
      "STOP: TOTAL NO. of ITERATIONS REACHED LIMIT.\n",
      "\n",
      "Increase the number of iterations (max_iter) or scale the data as shown in:\n",
      "    https://scikit-learn.org/stable/modules/preprocessing.html\n",
      "Please also refer to the documentation for alternative solver options:\n",
      "    https://scikit-learn.org/stable/modules/linear_model.html#logistic-regression\n",
      "  extra_warning_msg=_LOGISTIC_SOLVER_CONVERGENCE_MSG)\n",
      "C:\\Users\\amaur\\Anaconda3\\lib\\site-packages\\sklearn\\linear_model\\_logistic.py:940: ConvergenceWarning: lbfgs failed to converge (status=1):\n",
      "STOP: TOTAL NO. of ITERATIONS REACHED LIMIT.\n",
      "\n",
      "Increase the number of iterations (max_iter) or scale the data as shown in:\n",
      "    https://scikit-learn.org/stable/modules/preprocessing.html\n",
      "Please also refer to the documentation for alternative solver options:\n",
      "    https://scikit-learn.org/stable/modules/linear_model.html#logistic-regression\n",
      "  extra_warning_msg=_LOGISTIC_SOLVER_CONVERGENCE_MSG)\n",
      "C:\\Users\\amaur\\Anaconda3\\lib\\site-packages\\sklearn\\linear_model\\_logistic.py:940: ConvergenceWarning: lbfgs failed to converge (status=1):\n",
      "STOP: TOTAL NO. of ITERATIONS REACHED LIMIT.\n",
      "\n",
      "Increase the number of iterations (max_iter) or scale the data as shown in:\n",
      "    https://scikit-learn.org/stable/modules/preprocessing.html\n",
      "Please also refer to the documentation for alternative solver options:\n",
      "    https://scikit-learn.org/stable/modules/linear_model.html#logistic-regression\n",
      "  extra_warning_msg=_LOGISTIC_SOLVER_CONVERGENCE_MSG)\n",
      "C:\\Users\\amaur\\Anaconda3\\lib\\site-packages\\sklearn\\linear_model\\_logistic.py:940: ConvergenceWarning: lbfgs failed to converge (status=1):\n",
      "STOP: TOTAL NO. of ITERATIONS REACHED LIMIT.\n",
      "\n",
      "Increase the number of iterations (max_iter) or scale the data as shown in:\n",
      "    https://scikit-learn.org/stable/modules/preprocessing.html\n",
      "Please also refer to the documentation for alternative solver options:\n",
      "    https://scikit-learn.org/stable/modules/linear_model.html#logistic-regression\n",
      "  extra_warning_msg=_LOGISTIC_SOLVER_CONVERGENCE_MSG)\n",
      "C:\\Users\\amaur\\Anaconda3\\lib\\site-packages\\sklearn\\linear_model\\_logistic.py:940: ConvergenceWarning: lbfgs failed to converge (status=1):\n",
      "STOP: TOTAL NO. of ITERATIONS REACHED LIMIT.\n",
      "\n",
      "Increase the number of iterations (max_iter) or scale the data as shown in:\n",
      "    https://scikit-learn.org/stable/modules/preprocessing.html\n",
      "Please also refer to the documentation for alternative solver options:\n",
      "    https://scikit-learn.org/stable/modules/linear_model.html#logistic-regression\n",
      "  extra_warning_msg=_LOGISTIC_SOLVER_CONVERGENCE_MSG)\n",
      "C:\\Users\\amaur\\Anaconda3\\lib\\site-packages\\sklearn\\linear_model\\_logistic.py:940: ConvergenceWarning: lbfgs failed to converge (status=1):\n",
      "STOP: TOTAL NO. of ITERATIONS REACHED LIMIT.\n",
      "\n",
      "Increase the number of iterations (max_iter) or scale the data as shown in:\n",
      "    https://scikit-learn.org/stable/modules/preprocessing.html\n",
      "Please also refer to the documentation for alternative solver options:\n",
      "    https://scikit-learn.org/stable/modules/linear_model.html#logistic-regression\n",
      "  extra_warning_msg=_LOGISTIC_SOLVER_CONVERGENCE_MSG)\n",
      "C:\\Users\\amaur\\Anaconda3\\lib\\site-packages\\sklearn\\linear_model\\_logistic.py:940: ConvergenceWarning: lbfgs failed to converge (status=1):\n",
      "STOP: TOTAL NO. of ITERATIONS REACHED LIMIT.\n",
      "\n",
      "Increase the number of iterations (max_iter) or scale the data as shown in:\n",
      "    https://scikit-learn.org/stable/modules/preprocessing.html\n",
      "Please also refer to the documentation for alternative solver options:\n",
      "    https://scikit-learn.org/stable/modules/linear_model.html#logistic-regression\n",
      "  extra_warning_msg=_LOGISTIC_SOLVER_CONVERGENCE_MSG)\n",
      "C:\\Users\\amaur\\Anaconda3\\lib\\site-packages\\sklearn\\linear_model\\_logistic.py:940: ConvergenceWarning: lbfgs failed to converge (status=1):\n",
      "STOP: TOTAL NO. of ITERATIONS REACHED LIMIT.\n",
      "\n",
      "Increase the number of iterations (max_iter) or scale the data as shown in:\n",
      "    https://scikit-learn.org/stable/modules/preprocessing.html\n",
      "Please also refer to the documentation for alternative solver options:\n",
      "    https://scikit-learn.org/stable/modules/linear_model.html#logistic-regression\n",
      "  extra_warning_msg=_LOGISTIC_SOLVER_CONVERGENCE_MSG)\n",
      "C:\\Users\\amaur\\Anaconda3\\lib\\site-packages\\sklearn\\linear_model\\_logistic.py:940: ConvergenceWarning: lbfgs failed to converge (status=1):\n",
      "STOP: TOTAL NO. of ITERATIONS REACHED LIMIT.\n",
      "\n",
      "Increase the number of iterations (max_iter) or scale the data as shown in:\n",
      "    https://scikit-learn.org/stable/modules/preprocessing.html\n",
      "Please also refer to the documentation for alternative solver options:\n",
      "    https://scikit-learn.org/stable/modules/linear_model.html#logistic-regression\n",
      "  extra_warning_msg=_LOGISTIC_SOLVER_CONVERGENCE_MSG)\n",
      "C:\\Users\\amaur\\Anaconda3\\lib\\site-packages\\sklearn\\linear_model\\_logistic.py:940: ConvergenceWarning: lbfgs failed to converge (status=1):\n",
      "STOP: TOTAL NO. of ITERATIONS REACHED LIMIT.\n",
      "\n",
      "Increase the number of iterations (max_iter) or scale the data as shown in:\n",
      "    https://scikit-learn.org/stable/modules/preprocessing.html\n",
      "Please also refer to the documentation for alternative solver options:\n",
      "    https://scikit-learn.org/stable/modules/linear_model.html#logistic-regression\n",
      "  extra_warning_msg=_LOGISTIC_SOLVER_CONVERGENCE_MSG)\n",
      "C:\\Users\\amaur\\Anaconda3\\lib\\site-packages\\sklearn\\linear_model\\_logistic.py:940: ConvergenceWarning: lbfgs failed to converge (status=1):\n",
      "STOP: TOTAL NO. of ITERATIONS REACHED LIMIT.\n",
      "\n",
      "Increase the number of iterations (max_iter) or scale the data as shown in:\n",
      "    https://scikit-learn.org/stable/modules/preprocessing.html\n",
      "Please also refer to the documentation for alternative solver options:\n",
      "    https://scikit-learn.org/stable/modules/linear_model.html#logistic-regression\n",
      "  extra_warning_msg=_LOGISTIC_SOLVER_CONVERGENCE_MSG)\n",
      "C:\\Users\\amaur\\Anaconda3\\lib\\site-packages\\sklearn\\linear_model\\_logistic.py:940: ConvergenceWarning: lbfgs failed to converge (status=1):\n",
      "STOP: TOTAL NO. of ITERATIONS REACHED LIMIT.\n",
      "\n",
      "Increase the number of iterations (max_iter) or scale the data as shown in:\n",
      "    https://scikit-learn.org/stable/modules/preprocessing.html\n",
      "Please also refer to the documentation for alternative solver options:\n",
      "    https://scikit-learn.org/stable/modules/linear_model.html#logistic-regression\n",
      "  extra_warning_msg=_LOGISTIC_SOLVER_CONVERGENCE_MSG)\n",
      "C:\\Users\\amaur\\Anaconda3\\lib\\site-packages\\sklearn\\linear_model\\_logistic.py:940: ConvergenceWarning: lbfgs failed to converge (status=1):\n",
      "STOP: TOTAL NO. of ITERATIONS REACHED LIMIT.\n",
      "\n",
      "Increase the number of iterations (max_iter) or scale the data as shown in:\n",
      "    https://scikit-learn.org/stable/modules/preprocessing.html\n",
      "Please also refer to the documentation for alternative solver options:\n",
      "    https://scikit-learn.org/stable/modules/linear_model.html#logistic-regression\n",
      "  extra_warning_msg=_LOGISTIC_SOLVER_CONVERGENCE_MSG)\n",
      "C:\\Users\\amaur\\Anaconda3\\lib\\site-packages\\sklearn\\linear_model\\_logistic.py:940: ConvergenceWarning: lbfgs failed to converge (status=1):\n",
      "STOP: TOTAL NO. of ITERATIONS REACHED LIMIT.\n",
      "\n",
      "Increase the number of iterations (max_iter) or scale the data as shown in:\n",
      "    https://scikit-learn.org/stable/modules/preprocessing.html\n",
      "Please also refer to the documentation for alternative solver options:\n",
      "    https://scikit-learn.org/stable/modules/linear_model.html#logistic-regression\n",
      "  extra_warning_msg=_LOGISTIC_SOLVER_CONVERGENCE_MSG)\n",
      "C:\\Users\\amaur\\Anaconda3\\lib\\site-packages\\sklearn\\linear_model\\_logistic.py:940: ConvergenceWarning: lbfgs failed to converge (status=1):\n",
      "STOP: TOTAL NO. of ITERATIONS REACHED LIMIT.\n",
      "\n",
      "Increase the number of iterations (max_iter) or scale the data as shown in:\n",
      "    https://scikit-learn.org/stable/modules/preprocessing.html\n",
      "Please also refer to the documentation for alternative solver options:\n",
      "    https://scikit-learn.org/stable/modules/linear_model.html#logistic-regression\n",
      "  extra_warning_msg=_LOGISTIC_SOLVER_CONVERGENCE_MSG)\n",
      "C:\\Users\\amaur\\Anaconda3\\lib\\site-packages\\sklearn\\linear_model\\_logistic.py:940: ConvergenceWarning: lbfgs failed to converge (status=1):\n",
      "STOP: TOTAL NO. of ITERATIONS REACHED LIMIT.\n",
      "\n",
      "Increase the number of iterations (max_iter) or scale the data as shown in:\n",
      "    https://scikit-learn.org/stable/modules/preprocessing.html\n",
      "Please also refer to the documentation for alternative solver options:\n",
      "    https://scikit-learn.org/stable/modules/linear_model.html#logistic-regression\n",
      "  extra_warning_msg=_LOGISTIC_SOLVER_CONVERGENCE_MSG)\n"
     ]
    }
   ],
   "source": [
    "#avaliando cada modelo\n",
    "\n",
    "resultados = []\n",
    "nomes = []\n",
    "\n",
    "for nome, modelo in modelos:\n",
    "    kfold = model_selection.KFold(n_splits = num_folds, random_state = seed, shuffle = True)\n",
    "    cv_res_accuracy = model_selection.cross_val_score(modelo, X, y, cv = kfold, scoring = 'accuracy')\n",
    "    cv_res_precision = model_selection.cross_val_score(modelo, X, y, cv = kfold, scoring = 'precision')\n",
    "    cv_res_recall = model_selection.cross_val_score(modelo, X, y, cv = kfold, scoring = 'recall')\n",
    "    cv_res_f1 = model_selection.cross_val_score(modelo, X, y, cv = kfold, scoring = 'f1')\n",
    "    #resultados.append(cv_results)\n",
    "    resultados.extend([cv_res_accuracy, cv_res_precision, cv_res_recall, cv_res_f1])\n",
    "    nomes.append(nome)\n",
    "    msg = \"%s: %f - %f - %f - %f\" % (nome, cv_res_accuracy.mean(), cv_res_precision.mean(), cv_res_recall.mean(), cv_res_f1.mean())\n",
    "    print(msg)"
   ]
  },
  {
   "cell_type": "code",
   "execution_count": null,
   "metadata": {
    "scrolled": true
   },
   "outputs": [],
   "source": [
    "mi = mutual_info_classif(X, y)\n",
    "mi"
   ]
  },
  {
   "cell_type": "code",
   "execution_count": null,
   "metadata": {},
   "outputs": [],
   "source": [
    "mi = pd.Series(mi)\n",
    "mi.index = X.columns\n",
    "mi = mi.sort_values(ascending=False)\n",
    "mi.plot.bar(figsize=(12,8))\n",
    "plt.title('Mutual Information')"
   ]
  },
  {
   "cell_type": "code",
   "execution_count": 46,
   "metadata": {},
   "outputs": [],
   "source": [
    "#mi = mutual_info_classif(X_scaled, y)\n",
    "#mi"
   ]
  },
  {
   "cell_type": "code",
   "execution_count": 47,
   "metadata": {},
   "outputs": [],
   "source": [
    "#mi = pd.Series(mi)\n",
    "#mi.index = X.columns\n",
    "#mi = mi.sort_values(ascending=False)\n",
    "#mi.plot.bar(figsize=(12,8))\n",
    "#plt.title('Mutual Information com escala')"
   ]
  },
  {
   "cell_type": "code",
   "execution_count": null,
   "metadata": {},
   "outputs": [],
   "source": []
  }
 ],
 "metadata": {
  "kernelspec": {
   "display_name": "Python 3",
   "language": "python",
   "name": "python3"
  },
  "language_info": {
   "codemirror_mode": {
    "name": "ipython",
    "version": 3
   },
   "file_extension": ".py",
   "mimetype": "text/x-python",
   "name": "python",
   "nbconvert_exporter": "python",
   "pygments_lexer": "ipython3",
   "version": "3.6.4"
  }
 },
 "nbformat": 4,
 "nbformat_minor": 4
}
